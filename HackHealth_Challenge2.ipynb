{
  "nbformat": 4,
  "nbformat_minor": 0,
  "metadata": {
    "colab": {
      "name": "HackHealth-Challenge2.ipynb",
      "version": "0.3.2",
      "provenance": []
    },
    "kernelspec": {
      "name": "python3",
      "display_name": "Python 3"
    }
  },
  "cells": [
    {
      "metadata": {
        "id": "G9ItrQfOTXw8",
        "colab_type": "text"
      },
      "cell_type": "markdown",
      "source": [
        "Challenge #2\n",
        "\n",
        "Dataset from http://peterhcharlton.github.io/RRest/bidmc_dataset.html\n",
        "\n",
        "```\n",
        "Data of\n",
        "  electrocardiogram (ECG)  \n",
        "  pulse oximetry (photoplethysmogram, PPG)  \n",
        "  impedance pneumography respiratory signals  \n",
        "  \n",
        "  acquired from intensive care patients\n",
        "  \n",
        "  n = 52\n",
        " ```\n",
        " \n",
        " Data downloaded with the command:  \n",
        " `$ wget -r --no-parent --reject \"index.html*\" https://physionet.org/physiobank/database/bidmc/bidmc_csv/`\n",
        " \n",
        "and uploaded to Google Drive for usage in Colab Notebook"
      ]
    },
    {
      "metadata": {
        "id": "OYa3BzLezZFx",
        "colab_type": "code",
        "outputId": "642dd9bd-5693-4fca-bcd2-04d3c5b3885a",
        "colab": {
          "base_uri": "https://localhost:8080/",
          "height": 54
        }
      },
      "cell_type": "code",
      "source": [
        "from google.colab import drive\n",
        "drive.mount('/content/drive')"
      ],
      "execution_count": 0,
      "outputs": [
        {
          "output_type": "stream",
          "text": [
            "Drive already mounted at /content/drive; to attempt to forcibly remount, call drive.mount(\"/content/drive\", force_remount=True).\n"
          ],
          "name": "stdout"
        }
      ]
    },
    {
      "metadata": {
        "id": "8pLd6Q9jz7GR",
        "colab_type": "code",
        "outputId": "c19e6a48-dc29-49c6-d2c6-6d708d20bd15",
        "colab": {
          "base_uri": "https://localhost:8080/",
          "height": 34
        }
      },
      "cell_type": "code",
      "source": [
        "!ls \"/content/drive/My Drive/!hackhealth\""
      ],
      "execution_count": 0,
      "outputs": [
        {
          "output_type": "stream",
          "text": [
            "bidmc_csv  bidmc_data.mat\n"
          ],
          "name": "stdout"
        }
      ]
    },
    {
      "metadata": {
        "id": "vcfBdWof0hvz",
        "colab_type": "code",
        "colab": {}
      },
      "cell_type": "code",
      "source": [
        "import scipy.io\n",
        "mat = scipy.io.loadmat('/content/drive/My Drive/!hackhealth/bidmc_data.mat')"
      ],
      "execution_count": 0,
      "outputs": []
    },
    {
      "metadata": {
        "id": "ZnKKZLZuSPHA",
        "colab_type": "text"
      },
      "cell_type": "markdown",
      "source": [
        "Explore data in `.mat` format"
      ]
    },
    {
      "metadata": {
        "id": "p2PyQlF61EdI",
        "colab_type": "code",
        "colab": {}
      },
      "cell_type": "code",
      "source": [
        "data = mat['data']"
      ],
      "execution_count": 0,
      "outputs": []
    },
    {
      "metadata": {
        "id": "ftaMRjJb18Ua",
        "colab_type": "code",
        "outputId": "35753cc5-ce2c-4abf-a8bd-6c45e4c57e85",
        "colab": {
          "base_uri": "https://localhost:8080/",
          "height": 34
        }
      },
      "cell_type": "code",
      "source": [
        "data[0][0][0][0][0][0]"
      ],
      "execution_count": 0,
      "outputs": [
        {
          "output_type": "execute_result",
          "data": {
            "text/plain": [
              "array(['s01182'], dtype='<U6')"
            ]
          },
          "metadata": {
            "tags": []
          },
          "execution_count": 9
        }
      ]
    },
    {
      "metadata": {
        "id": "yawviXc1nS6f",
        "colab_type": "code",
        "colab": {}
      },
      "cell_type": "code",
      "source": [
        "data[0][1]"
      ],
      "execution_count": 0,
      "outputs": []
    },
    {
      "metadata": {
        "id": "XqdfIaZx8Euu",
        "colab_type": "code",
        "colab": {}
      },
      "cell_type": "code",
      "source": [
        "!ls \"/content/drive/My Drive/!hackhealth/bidmc_csv\""
      ],
      "execution_count": 0,
      "outputs": []
    },
    {
      "metadata": {
        "id": "OYKrhQ-n8QIa",
        "colab_type": "code",
        "outputId": "b833f759-27aa-431a-bdba-cad04fb66577",
        "colab": {
          "base_uri": "https://localhost:8080/",
          "height": 51
        }
      },
      "cell_type": "code",
      "source": [
        "import tensorflow as tf\n",
        "from tensorflow.keras import layers\n",
        "\n",
        "print(tf.VERSION)\n",
        "print(tf.keras.__version__)"
      ],
      "execution_count": 0,
      "outputs": [
        {
          "output_type": "stream",
          "text": [
            "1.13.1\n",
            "2.2.4-tf\n"
          ],
          "name": "stdout"
        }
      ]
    },
    {
      "metadata": {
        "id": "gMEDR0kbSeHg",
        "colab_type": "text"
      },
      "cell_type": "markdown",
      "source": [
        "Explore data in `.csv` format"
      ]
    },
    {
      "metadata": {
        "id": "H5eBaRmpA_qY",
        "colab_type": "code",
        "outputId": "b93f8707-7175-48c7-e3b0-6ef5fa9b9b92",
        "colab": {
          "base_uri": "https://localhost:8080/",
          "height": 204
        }
      },
      "cell_type": "code",
      "source": [
        "import scipy\n",
        "import numpy\n",
        "import matplotlib\n",
        "import pandas as pd\n",
        "import sklearn\n",
        "import statsmodels\n",
        "\n",
        "from pandas import Series\n",
        "from matplotlib import pyplot\n",
        "series_s = pd.read_csv('/content/drive/My Drive/!hackhealth/bidmc_csv/bidmc_01_Signals.csv')\n",
        "series_s.head()\n",
        "#series.plot()\n"
      ],
      "execution_count": 0,
      "outputs": [
        {
          "output_type": "execute_result",
          "data": {
            "text/html": [
              "<div>\n",
              "<style scoped>\n",
              "    .dataframe tbody tr th:only-of-type {\n",
              "        vertical-align: middle;\n",
              "    }\n",
              "\n",
              "    .dataframe tbody tr th {\n",
              "        vertical-align: top;\n",
              "    }\n",
              "\n",
              "    .dataframe thead th {\n",
              "        text-align: right;\n",
              "    }\n",
              "</style>\n",
              "<table border=\"1\" class=\"dataframe\">\n",
              "  <thead>\n",
              "    <tr style=\"text-align: right;\">\n",
              "      <th></th>\n",
              "      <th>Time [s]</th>\n",
              "      <th>RESP</th>\n",
              "      <th>PLETH</th>\n",
              "      <th>V</th>\n",
              "      <th>AVR</th>\n",
              "      <th>II</th>\n",
              "    </tr>\n",
              "  </thead>\n",
              "  <tbody>\n",
              "    <tr>\n",
              "      <th>0</th>\n",
              "      <td>0.000</td>\n",
              "      <td>0.35386</td>\n",
              "      <td>0.43597</td>\n",
              "      <td>0.52549</td>\n",
              "      <td>0.30392</td>\n",
              "      <td>0.72549</td>\n",
              "    </tr>\n",
              "    <tr>\n",
              "      <th>1</th>\n",
              "      <td>0.008</td>\n",
              "      <td>0.35679</td>\n",
              "      <td>0.43206</td>\n",
              "      <td>0.51961</td>\n",
              "      <td>0.33529</td>\n",
              "      <td>0.67059</td>\n",
              "    </tr>\n",
              "    <tr>\n",
              "      <th>2</th>\n",
              "      <td>0.016</td>\n",
              "      <td>0.35875</td>\n",
              "      <td>0.42815</td>\n",
              "      <td>0.51569</td>\n",
              "      <td>0.37451</td>\n",
              "      <td>0.60980</td>\n",
              "    </tr>\n",
              "    <tr>\n",
              "      <th>3</th>\n",
              "      <td>0.024</td>\n",
              "      <td>0.36168</td>\n",
              "      <td>0.42424</td>\n",
              "      <td>0.50588</td>\n",
              "      <td>0.41961</td>\n",
              "      <td>0.55098</td>\n",
              "    </tr>\n",
              "    <tr>\n",
              "      <th>4</th>\n",
              "      <td>0.032</td>\n",
              "      <td>0.36364</td>\n",
              "      <td>0.42131</td>\n",
              "      <td>0.50980</td>\n",
              "      <td>0.44902</td>\n",
              "      <td>0.50000</td>\n",
              "    </tr>\n",
              "  </tbody>\n",
              "</table>\n",
              "</div>"
            ],
            "text/plain": [
              "   Time [s]     RESP    PLETH        V      AVR       II\n",
              "0     0.000  0.35386  0.43597  0.52549  0.30392  0.72549\n",
              "1     0.008  0.35679  0.43206  0.51961  0.33529  0.67059\n",
              "2     0.016  0.35875  0.42815  0.51569  0.37451  0.60980\n",
              "3     0.024  0.36168  0.42424  0.50588  0.41961  0.55098\n",
              "4     0.032  0.36364  0.42131  0.50980  0.44902  0.50000"
            ]
          },
          "metadata": {
            "tags": []
          },
          "execution_count": 35
        }
      ]
    },
    {
      "metadata": {
        "id": "uolf8XpsCrd2",
        "colab_type": "code",
        "outputId": "4cc23ad7-0368-4673-acd2-d0579a73422c",
        "colab": {
          "base_uri": "https://localhost:8080/",
          "height": 34
        }
      },
      "cell_type": "code",
      "source": [
        "series_s.index"
      ],
      "execution_count": 0,
      "outputs": [
        {
          "output_type": "execute_result",
          "data": {
            "text/plain": [
              "RangeIndex(start=0, stop=60001, step=1)"
            ]
          },
          "metadata": {
            "tags": []
          },
          "execution_count": 36
        }
      ]
    },
    {
      "metadata": {
        "id": "FoPg41RDDElt",
        "colab_type": "code",
        "outputId": "965dd617-8eaf-48f8-ffb1-fc89c8f0c6a6",
        "colab": {
          "base_uri": "https://localhost:8080/",
          "height": 297
        }
      },
      "cell_type": "code",
      "source": [
        "series_s.describe()"
      ],
      "execution_count": 0,
      "outputs": [
        {
          "output_type": "execute_result",
          "data": {
            "text/html": [
              "<div>\n",
              "<style scoped>\n",
              "    .dataframe tbody tr th:only-of-type {\n",
              "        vertical-align: middle;\n",
              "    }\n",
              "\n",
              "    .dataframe tbody tr th {\n",
              "        vertical-align: top;\n",
              "    }\n",
              "\n",
              "    .dataframe thead th {\n",
              "        text-align: right;\n",
              "    }\n",
              "</style>\n",
              "<table border=\"1\" class=\"dataframe\">\n",
              "  <thead>\n",
              "    <tr style=\"text-align: right;\">\n",
              "      <th></th>\n",
              "      <th>Time [s]</th>\n",
              "      <th>RESP</th>\n",
              "      <th>PLETH</th>\n",
              "      <th>V</th>\n",
              "      <th>AVR</th>\n",
              "      <th>II</th>\n",
              "    </tr>\n",
              "  </thead>\n",
              "  <tbody>\n",
              "    <tr>\n",
              "      <th>count</th>\n",
              "      <td>60001.000000</td>\n",
              "      <td>60001.000000</td>\n",
              "      <td>60001.000000</td>\n",
              "      <td>60001.000000</td>\n",
              "      <td>60001.000000</td>\n",
              "      <td>60001.000000</td>\n",
              "    </tr>\n",
              "    <tr>\n",
              "      <th>mean</th>\n",
              "      <td>240.000000</td>\n",
              "      <td>0.463901</td>\n",
              "      <td>0.465795</td>\n",
              "      <td>0.479294</td>\n",
              "      <td>0.477605</td>\n",
              "      <td>0.464972</td>\n",
              "    </tr>\n",
              "    <tr>\n",
              "      <th>std</th>\n",
              "      <td>138.567529</td>\n",
              "      <td>0.320779</td>\n",
              "      <td>0.065513</td>\n",
              "      <td>0.166586</td>\n",
              "      <td>0.160749</td>\n",
              "      <td>0.232832</td>\n",
              "    </tr>\n",
              "    <tr>\n",
              "      <th>min</th>\n",
              "      <td>0.000000</td>\n",
              "      <td>0.000000</td>\n",
              "      <td>0.223850</td>\n",
              "      <td>-0.501960</td>\n",
              "      <td>-0.498040</td>\n",
              "      <td>-0.501960</td>\n",
              "    </tr>\n",
              "    <tr>\n",
              "      <th>25%</th>\n",
              "      <td>120.000000</td>\n",
              "      <td>0.187680</td>\n",
              "      <td>0.410560</td>\n",
              "      <td>0.490200</td>\n",
              "      <td>0.470590</td>\n",
              "      <td>0.345100</td>\n",
              "    </tr>\n",
              "    <tr>\n",
              "      <th>50%</th>\n",
              "      <td>240.000000</td>\n",
              "      <td>0.347020</td>\n",
              "      <td>0.446730</td>\n",
              "      <td>0.509800</td>\n",
              "      <td>0.539220</td>\n",
              "      <td>0.374510</td>\n",
              "    </tr>\n",
              "    <tr>\n",
              "      <th>75%</th>\n",
              "      <td>360.000000</td>\n",
              "      <td>0.760510</td>\n",
              "      <td>0.509290</td>\n",
              "      <td>0.525490</td>\n",
              "      <td>0.554900</td>\n",
              "      <td>0.480390</td>\n",
              "    </tr>\n",
              "    <tr>\n",
              "      <th>max</th>\n",
              "      <td>480.000000</td>\n",
              "      <td>1.000000</td>\n",
              "      <td>0.697950</td>\n",
              "      <td>1.503900</td>\n",
              "      <td>1.047100</td>\n",
              "      <td>1.503900</td>\n",
              "    </tr>\n",
              "  </tbody>\n",
              "</table>\n",
              "</div>"
            ],
            "text/plain": [
              "           Time [s]          RESP         PLETH             V           AVR  \\\n",
              "count  60001.000000  60001.000000  60001.000000  60001.000000  60001.000000   \n",
              "mean     240.000000      0.463901      0.465795      0.479294      0.477605   \n",
              "std      138.567529      0.320779      0.065513      0.166586      0.160749   \n",
              "min        0.000000      0.000000      0.223850     -0.501960     -0.498040   \n",
              "25%      120.000000      0.187680      0.410560      0.490200      0.470590   \n",
              "50%      240.000000      0.347020      0.446730      0.509800      0.539220   \n",
              "75%      360.000000      0.760510      0.509290      0.525490      0.554900   \n",
              "max      480.000000      1.000000      0.697950      1.503900      1.047100   \n",
              "\n",
              "                 II  \n",
              "count  60001.000000  \n",
              "mean       0.464972  \n",
              "std        0.232832  \n",
              "min       -0.501960  \n",
              "25%        0.345100  \n",
              "50%        0.374510  \n",
              "75%        0.480390  \n",
              "max        1.503900  "
            ]
          },
          "metadata": {
            "tags": []
          },
          "execution_count": 37
        }
      ]
    },
    {
      "metadata": {
        "id": "PU2tR2CSG9KI",
        "colab_type": "code",
        "outputId": "17bf1a6c-090a-403f-fa0d-5bc26f18c109",
        "colab": {
          "base_uri": "https://localhost:8080/",
          "height": 34
        }
      },
      "cell_type": "code",
      "source": [
        "series_s.index"
      ],
      "execution_count": 0,
      "outputs": [
        {
          "output_type": "execute_result",
          "data": {
            "text/plain": [
              "RangeIndex(start=0, stop=60001, step=1)"
            ]
          },
          "metadata": {
            "tags": []
          },
          "execution_count": 75
        }
      ]
    },
    {
      "metadata": {
        "id": "jwY656EwGO98",
        "colab_type": "code",
        "outputId": "4c5f952a-edd9-41ca-ca36-609df1daa53e",
        "colab": {
          "base_uri": "https://localhost:8080/",
          "height": 432
        }
      },
      "cell_type": "code",
      "source": [
        "series_s \\\n",
        "  .head(500) \\\n",
        "  .plot(x='Time [s]', y=[' RESP', ' PLETH', ' V', ' AVR', ' II'])"
      ],
      "execution_count": 0,
      "outputs": [
        {
          "output_type": "stream",
          "text": [
            "/usr/local/lib/python3.6/dist-packages/pandas/plotting/_core.py:1716: UserWarning: Pandas doesn't allow columns to be created via a new attribute name - see https://pandas.pydata.org/pandas-docs/stable/indexing.html#attribute-access\n",
            "  series.name = label\n"
          ],
          "name": "stderr"
        },
        {
          "output_type": "execute_result",
          "data": {
            "text/plain": [
              "<matplotlib.axes._subplots.AxesSubplot at 0x7f64aa5a6860>"
            ]
          },
          "metadata": {
            "tags": []
          },
          "execution_count": 89
        },
        {
          "output_type": "display_data",
          "data": {
            "image/png": "[encoded data removed]",
            "text/plain": [
              "<Figure size 576x396 with 1 Axes>"
            ]
          },
          "metadata": {
            "tags": []
          }
        }
      ]
    },
    {
      "metadata": {
        "id": "yblMhLFaHXxh",
        "colab_type": "code",
        "outputId": "987f376c-c829-4a5b-ccb8-d01cbb8e37b6",
        "colab": {
          "base_uri": "https://localhost:8080/",
          "height": 204
        }
      },
      "cell_type": "code",
      "source": [
        "series_n = pd.read_csv('/content/drive/My Drive/!hackhealth/bidmc_csv/bidmc_01_Numerics.csv')\n",
        "series_n.head()"
      ],
      "execution_count": 0,
      "outputs": [
        {
          "output_type": "execute_result",
          "data": {
            "text/html": [
              "<div>\n",
              "<style scoped>\n",
              "    .dataframe tbody tr th:only-of-type {\n",
              "        vertical-align: middle;\n",
              "    }\n",
              "\n",
              "    .dataframe tbody tr th {\n",
              "        vertical-align: top;\n",
              "    }\n",
              "\n",
              "    .dataframe thead th {\n",
              "        text-align: right;\n",
              "    }\n",
              "</style>\n",
              "<table border=\"1\" class=\"dataframe\">\n",
              "  <thead>\n",
              "    <tr style=\"text-align: right;\">\n",
              "      <th></th>\n",
              "      <th>Time [s]</th>\n",
              "      <th>HR</th>\n",
              "      <th>PULSE</th>\n",
              "      <th>RESP</th>\n",
              "      <th>SpO2</th>\n",
              "    </tr>\n",
              "  </thead>\n",
              "  <tbody>\n",
              "    <tr>\n",
              "      <th>0</th>\n",
              "      <td>0</td>\n",
              "      <td>94</td>\n",
              "      <td>93.0</td>\n",
              "      <td>25</td>\n",
              "      <td>97.0</td>\n",
              "    </tr>\n",
              "    <tr>\n",
              "      <th>1</th>\n",
              "      <td>1</td>\n",
              "      <td>94</td>\n",
              "      <td>93.0</td>\n",
              "      <td>25</td>\n",
              "      <td>97.0</td>\n",
              "    </tr>\n",
              "    <tr>\n",
              "      <th>2</th>\n",
              "      <td>2</td>\n",
              "      <td>94</td>\n",
              "      <td>93.0</td>\n",
              "      <td>25</td>\n",
              "      <td>97.0</td>\n",
              "    </tr>\n",
              "    <tr>\n",
              "      <th>3</th>\n",
              "      <td>3</td>\n",
              "      <td>92</td>\n",
              "      <td>93.0</td>\n",
              "      <td>26</td>\n",
              "      <td>97.0</td>\n",
              "    </tr>\n",
              "    <tr>\n",
              "      <th>4</th>\n",
              "      <td>4</td>\n",
              "      <td>93</td>\n",
              "      <td>93.0</td>\n",
              "      <td>26</td>\n",
              "      <td>97.0</td>\n",
              "    </tr>\n",
              "  </tbody>\n",
              "</table>\n",
              "</div>"
            ],
            "text/plain": [
              "   Time [s]   HR   PULSE   RESP   SpO2\n",
              "0         0   94    93.0     25   97.0\n",
              "1         1   94    93.0     25   97.0\n",
              "2         2   94    93.0     25   97.0\n",
              "3         3   92    93.0     26   97.0\n",
              "4         4   93    93.0     26   97.0"
            ]
          },
          "metadata": {
            "tags": []
          },
          "execution_count": 76
        }
      ]
    },
    {
      "metadata": {
        "id": "iBk-1coYHphJ",
        "colab_type": "code",
        "outputId": "c47bca5b-248d-4884-e30c-c5fd1025dbbb",
        "colab": {
          "base_uri": "https://localhost:8080/",
          "height": 34
        }
      },
      "cell_type": "code",
      "source": [
        "series_n.index"
      ],
      "execution_count": 0,
      "outputs": [
        {
          "output_type": "execute_result",
          "data": {
            "text/plain": [
              "RangeIndex(start=0, stop=481, step=1)"
            ]
          },
          "metadata": {
            "tags": []
          },
          "execution_count": 77
        }
      ]
    },
    {
      "metadata": {
        "id": "nGTFEwYRHtLj",
        "colab_type": "code",
        "outputId": "153cce7f-499d-45a4-f13a-68443180dfe2",
        "colab": {
          "base_uri": "https://localhost:8080/",
          "height": 297
        }
      },
      "cell_type": "code",
      "source": [
        "series_n.describe()"
      ],
      "execution_count": 0,
      "outputs": [
        {
          "output_type": "execute_result",
          "data": {
            "text/html": [
              "<div>\n",
              "<style scoped>\n",
              "    .dataframe tbody tr th:only-of-type {\n",
              "        vertical-align: middle;\n",
              "    }\n",
              "\n",
              "    .dataframe tbody tr th {\n",
              "        vertical-align: top;\n",
              "    }\n",
              "\n",
              "    .dataframe thead th {\n",
              "        text-align: right;\n",
              "    }\n",
              "</style>\n",
              "<table border=\"1\" class=\"dataframe\">\n",
              "  <thead>\n",
              "    <tr style=\"text-align: right;\">\n",
              "      <th></th>\n",
              "      <th>Time [s]</th>\n",
              "      <th>HR</th>\n",
              "      <th>PULSE</th>\n",
              "      <th>RESP</th>\n",
              "      <th>SpO2</th>\n",
              "    </tr>\n",
              "  </thead>\n",
              "  <tbody>\n",
              "    <tr>\n",
              "      <th>count</th>\n",
              "      <td>481.000000</td>\n",
              "      <td>481.000000</td>\n",
              "      <td>468.000000</td>\n",
              "      <td>481.000000</td>\n",
              "      <td>468.000000</td>\n",
              "    </tr>\n",
              "    <tr>\n",
              "      <th>mean</th>\n",
              "      <td>240.000000</td>\n",
              "      <td>91.318087</td>\n",
              "      <td>91.008547</td>\n",
              "      <td>21.438669</td>\n",
              "      <td>96.916667</td>\n",
              "    </tr>\n",
              "    <tr>\n",
              "      <th>std</th>\n",
              "      <td>138.997002</td>\n",
              "      <td>1.012765</td>\n",
              "      <td>1.137229</td>\n",
              "      <td>1.296181</td>\n",
              "      <td>0.357693</td>\n",
              "    </tr>\n",
              "    <tr>\n",
              "      <th>min</th>\n",
              "      <td>0.000000</td>\n",
              "      <td>88.000000</td>\n",
              "      <td>89.000000</td>\n",
              "      <td>20.000000</td>\n",
              "      <td>96.000000</td>\n",
              "    </tr>\n",
              "    <tr>\n",
              "      <th>25%</th>\n",
              "      <td>120.000000</td>\n",
              "      <td>91.000000</td>\n",
              "      <td>90.000000</td>\n",
              "      <td>21.000000</td>\n",
              "      <td>97.000000</td>\n",
              "    </tr>\n",
              "    <tr>\n",
              "      <th>50%</th>\n",
              "      <td>240.000000</td>\n",
              "      <td>91.000000</td>\n",
              "      <td>91.000000</td>\n",
              "      <td>21.000000</td>\n",
              "      <td>97.000000</td>\n",
              "    </tr>\n",
              "    <tr>\n",
              "      <th>75%</th>\n",
              "      <td>360.000000</td>\n",
              "      <td>92.000000</td>\n",
              "      <td>91.000000</td>\n",
              "      <td>22.000000</td>\n",
              "      <td>97.000000</td>\n",
              "    </tr>\n",
              "    <tr>\n",
              "      <th>max</th>\n",
              "      <td>480.000000</td>\n",
              "      <td>95.000000</td>\n",
              "      <td>94.000000</td>\n",
              "      <td>26.000000</td>\n",
              "      <td>98.000000</td>\n",
              "    </tr>\n",
              "  </tbody>\n",
              "</table>\n",
              "</div>"
            ],
            "text/plain": [
              "         Time [s]          HR       PULSE        RESP        SpO2\n",
              "count  481.000000  481.000000  468.000000  481.000000  468.000000\n",
              "mean   240.000000   91.318087   91.008547   21.438669   96.916667\n",
              "std    138.997002    1.012765    1.137229    1.296181    0.357693\n",
              "min      0.000000   88.000000   89.000000   20.000000   96.000000\n",
              "25%    120.000000   91.000000   90.000000   21.000000   97.000000\n",
              "50%    240.000000   91.000000   91.000000   21.000000   97.000000\n",
              "75%    360.000000   92.000000   91.000000   22.000000   97.000000\n",
              "max    480.000000   95.000000   94.000000   26.000000   98.000000"
            ]
          },
          "metadata": {
            "tags": []
          },
          "execution_count": 78
        }
      ]
    },
    {
      "metadata": {
        "id": "IMjosLl9H0ch",
        "colab_type": "code",
        "outputId": "e8fae79e-3d82-4f47-c5fe-b6e25dca0195",
        "colab": {
          "base_uri": "https://localhost:8080/",
          "height": 432
        }
      },
      "cell_type": "code",
      "source": [
        "series_n \\\n",
        "  .head(481) \\\n",
        "  .plot(x='Time [s]', y=[' HR', ' PULSE', ' RESP', ' SpO2'])"
      ],
      "execution_count": 0,
      "outputs": [
        {
          "output_type": "stream",
          "text": [
            "/usr/local/lib/python3.6/dist-packages/pandas/plotting/_core.py:1716: UserWarning: Pandas doesn't allow columns to be created via a new attribute name - see https://pandas.pydata.org/pandas-docs/stable/indexing.html#attribute-access\n",
            "  series.name = label\n"
          ],
          "name": "stderr"
        },
        {
          "output_type": "execute_result",
          "data": {
            "text/plain": [
              "<matplotlib.axes._subplots.AxesSubplot at 0x7f64aa670e80>"
            ]
          },
          "metadata": {
            "tags": []
          },
          "execution_count": 88
        },
        {
          "output_type": "display_data",
          "data": {
            "image/png": "[encoded data removed]",
            "text/plain": [
              "<Figure size 576x396 with 1 Axes>"
            ]
          },
          "metadata": {
            "tags": []
          }
        }
      ]
    },
    {
      "metadata": {
        "id": "vAmXhTVQRRSZ",
        "colab_type": "code",
        "outputId": "18c6548d-1c1f-4d55-90ba-65b953c7ad75",
        "colab": {
          "base_uri": "https://localhost:8080/",
          "height": 432
        }
      },
      "cell_type": "code",
      "source": [
        "# Remove RESP from chart to explore HR, PULSE, SpO2 more distinctly\n",
        "series_n \\\n",
        "  .head(481) \\\n",
        "  .plot(x='Time [s]', y=[' HR', ' PULSE', ' SpO2'])"
      ],
      "execution_count": 0,
      "outputs": [
        {
          "output_type": "stream",
          "text": [
            "/usr/local/lib/python3.6/dist-packages/pandas/plotting/_core.py:1716: UserWarning: Pandas doesn't allow columns to be created via a new attribute name - see https://pandas.pydata.org/pandas-docs/stable/indexing.html#attribute-access\n",
            "  series.name = label\n"
          ],
          "name": "stderr"
        },
        {
          "output_type": "execute_result",
          "data": {
            "text/plain": [
              "<matplotlib.axes._subplots.AxesSubplot at 0x7f64aa699780>"
            ]
          },
          "metadata": {
            "tags": []
          },
          "execution_count": 87
        },
        {
          "output_type": "display_data",
          "data": {
            "image/png": "[encoded data removed]",
            "text/plain": [
              "<Figure size 576x396 with 1 Axes>"
            ]
          },
          "metadata": {
            "tags": []
          }
        }
      ]
    },
    {
      "metadata": {
        "id": "elwv4w4vS30O",
        "colab_type": "code",
        "outputId": "d77fc079-0479-4722-8a4f-706518765eb0",
        "colab": {
          "base_uri": "https://localhost:8080/",
          "height": 204
        }
      },
      "cell_type": "code",
      "source": [
        "series_b = pd.read_csv('/content/drive/My Drive/!hackhealth/bidmc_csv/bidmc_01_Breaths.csv')\n",
        "series_b.head()"
      ],
      "execution_count": 0,
      "outputs": [
        {
          "output_type": "execute_result",
          "data": {
            "text/html": [
              "<div>\n",
              "<style scoped>\n",
              "    .dataframe tbody tr th:only-of-type {\n",
              "        vertical-align: middle;\n",
              "    }\n",
              "\n",
              "    .dataframe tbody tr th {\n",
              "        vertical-align: top;\n",
              "    }\n",
              "\n",
              "    .dataframe thead th {\n",
              "        text-align: right;\n",
              "    }\n",
              "</style>\n",
              "<table border=\"1\" class=\"dataframe\">\n",
              "  <thead>\n",
              "    <tr style=\"text-align: right;\">\n",
              "      <th></th>\n",
              "      <th>breaths ann1 [signal sample no]</th>\n",
              "      <th>breaths ann2 [signal sample no]</th>\n",
              "    </tr>\n",
              "  </thead>\n",
              "  <tbody>\n",
              "    <tr>\n",
              "      <th>0</th>\n",
              "      <td>189</td>\n",
              "      <td>187</td>\n",
              "    </tr>\n",
              "    <tr>\n",
              "      <th>1</th>\n",
              "      <td>476</td>\n",
              "      <td>472</td>\n",
              "    </tr>\n",
              "    <tr>\n",
              "      <th>2</th>\n",
              "      <td>737</td>\n",
              "      <td>747</td>\n",
              "    </tr>\n",
              "    <tr>\n",
              "      <th>3</th>\n",
              "      <td>1037</td>\n",
              "      <td>1042</td>\n",
              "    </tr>\n",
              "    <tr>\n",
              "      <th>4</th>\n",
              "      <td>1324</td>\n",
              "      <td>1322</td>\n",
              "    </tr>\n",
              "  </tbody>\n",
              "</table>\n",
              "</div>"
            ],
            "text/plain": [
              "   breaths ann1 [signal sample no]   breaths ann2 [signal sample no]\n",
              "0                              189                               187\n",
              "1                              476                               472\n",
              "2                              737                               747\n",
              "3                             1037                              1042\n",
              "4                             1324                              1322"
            ]
          },
          "metadata": {
            "tags": []
          },
          "execution_count": 90
        }
      ]
    },
    {
      "metadata": {
        "id": "zpdsy7JcTByh",
        "colab_type": "code",
        "outputId": "402f0b7a-3dec-452b-cd40-ebf37ca1f6c0",
        "colab": {
          "base_uri": "https://localhost:8080/",
          "height": 364
        }
      },
      "cell_type": "code",
      "source": [
        "series_b.plot()"
      ],
      "execution_count": 0,
      "outputs": [
        {
          "output_type": "execute_result",
          "data": {
            "text/plain": [
              "<matplotlib.axes._subplots.AxesSubplot at 0x7f64a8bdba58>"
            ]
          },
          "metadata": {
            "tags": []
          },
          "execution_count": 93
        },
        {
          "output_type": "display_data",
          "data": {
            "image/png": "[encoded data removed]",
            "text/plain": [
              "<Figure size 576x396 with 1 Axes>"
            ]
          },
          "metadata": {
            "tags": []
          }
        }
      ]
    },
    {
      "metadata": {
        "id": "b3IZgoqGTQ0b",
        "colab_type": "text"
      },
      "cell_type": "markdown",
      "source": [
        "Dataset originally was used in the paper:  \n",
        "https://ieeexplore.ieee.org/document/7748483  \n",
        "\"Toward a Robust Estimation of Respiratory Rate From Pulse Oximeters\" (Marco A. F. Pimentel, et al)\n",
        "\n",
        "Challenge is to predict respiratory rate from PPG waveform"
      ]
    },
    {
      "metadata": {
        "id": "MHHrYshUV7UH",
        "colab_type": "text"
      },
      "cell_type": "markdown",
      "source": [
        "Strategy is to try out LSTM (Long-Short-Term-Memory), a type of RNN (Recurrent Neural Network), to predict dataset's feature \"RESP\" (respiratory rate (in Numeric data), % respiratory volume (in Signal data)) using dataset's features:  \n",
        "- HR (heart rate)\n",
        "- Pulse (pulse)\n",
        "- SpO2 (peripheral blood oxygen saturation)\n",
        "- PLETH (change in volume; plethysmograph)\n",
        "- V (a unipolar lead in ECG attached to 1 of 6 chest position; precordial)\n",
        "- AVR (a unipolar lead in ECG attached to 1 of 3 limbs; lead #4)\n",
        "- II (a bipolar lead in ECG attached to 1 of 3 limb)"
      ]
    }
  ]
}